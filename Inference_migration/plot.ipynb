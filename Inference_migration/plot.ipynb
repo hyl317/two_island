{
 "cells": [
  {
   "cell_type": "code",
   "execution_count": 1,
   "metadata": {},
   "outputs": [],
   "source": [
    "import matplotlib.pyplot as plt\n",
    "import numpy as np\n",
    "\n",
    "def read_split_time_est(file):\n",
    "    print(file)\n",
    "    exp_t_mle = []\n",
    "    exp_t_se = []\n",
    "    twoIsland_t_mle = []\n",
    "    twoIsland_t_se = []\n",
    "    with open(file) as f:\n",
    "        for line in f:\n",
    "            if line.startswith('#'):\n",
    "                continue\n",
    "            else:\n",
    "                _, t_exp_mle, t_exp_se, t_2island_mle, t_2island_se, *_ = line.strip().split()\n",
    "                exp_t_mle.append(float(t_exp_mle))\n",
    "                exp_t_se.append(float(t_exp_se))\n",
    "                twoIsland_t_mle.append(float(t_2island_mle))\n",
    "                twoIsland_t_se.append(float(t_2island_se))\n",
    "\n",
    "    exp_t_mle, exp_t_se, twoIsland_t_mle, twoIsland_t_se = np.array(exp_t_mle), np.array(exp_t_se), np.array(twoIsland_t_mle), np.array(twoIsland_t_se)\n",
    "    sortedIndex = np.argsort(exp_t_mle)\n",
    "    exp_t_mle, exp_t_se = exp_t_mle[sortedIndex], exp_t_se[sortedIndex]\n",
    "    sortedIndex = np.argsort(twoIsland_t_mle)\n",
    "    twoIsland_t_mle, twoIsland_t_se = twoIsland_t_mle[sortedIndex], twoIsland_t_se[sortedIndex]\n",
    "    return exp_t_mle, exp_t_se, twoIsland_t_mle, twoIsland_t_se\n",
    "\n",
    "def read_ne_est(file):\n",
    "    ne_list = []\n",
    "    ne_se_list = []\n",
    "    with open(file) as f:\n",
    "        for line in f:\n",
    "            if line.startswith('#'):\n",
    "                continue\n",
    "            else:\n",
    "                _, _, _, _, _, ne, ne_se = line.strip().split()\n",
    "                ne_list.append(float(ne))\n",
    "                ne_se_list.append(float(ne_se))\n",
    "    ne_list, ne_se_list = np.array(ne_list), np.array(ne_se_list)\n",
    "    sortedIndex = np.argsort(ne_list)\n",
    "    ne_list, ne_se_list = ne_list[sortedIndex], ne_se_list[sortedIndex] \n",
    "    return ne_list, ne_se_list"
   ]
  },
  {
   "cell_type": "code",
   "execution_count": 3,
   "metadata": {},
   "outputs": [
    {
     "name": "stdout",
     "output_type": "stream",
     "text": [
      "./results/M1_N1000_fullARG.results\n",
      "./results/M2_N1000_fullARG.results\n",
      "./results/M3_N1000_fullARG.results\n",
      "./results/M4_N1000_fullARG.results\n"
     ]
    },
    {
     "data": {
      "text/plain": [
       "<Figure size 432x288 with 0 Axes>"
      ]
     },
     "metadata": {},
     "output_type": "display_data"
    }
   ],
   "source": [
    "mig = {0.001:1, 0.005:2, 0.01:3, 0.02:4, 0.05:5, 0.1:6}\n",
    "Ne = 1000\n",
    "for T in [20]:\n",
    "    global_start = 2.5\n",
    "    for i, mig_rate in enumerate([0.001, 0.005, 0.01, 0.02]):\n",
    "        mig_index=mig[mig_rate]\n",
    "        exp_t_mle, exp_t_se, twoIsland_t_mle, twoIsland_t_se = read_split_time_est(f'./results/M{mig_index}_N{Ne}_fullARG.results')\n",
    "        local_start = global_start + 12.5*i\n",
    "\n",
    "        xs_2island = np.linspace(local_start, local_start+2.5, num=len(twoIsland_t_mle))\n",
    "        if i > 0:\n",
    "            plt.scatter(xs_2island, twoIsland_t_mle, marker='o', c='blue', s=5, zorder=3)\n",
    "            plt.errorbar(xs_2island, twoIsland_t_mle, yerr=1.96*np.array(twoIsland_t_se), fmt='none', ecolor='#8c8c8c', zorder=1)\n",
    "        else:\n",
    "            plt.scatter(xs_2island, twoIsland_t_mle, marker='o', c='blue', s=5, zorder=3, label='Two-Island')\n",
    "            plt.errorbar(xs_2island, twoIsland_t_mle, yerr=1.96*np.array(twoIsland_t_se), fmt='none', ecolor='#8c8c8c', zorder=1, label='95% Confidence Interval')\n",
    "\n",
    "        xs_exp = np.linspace(local_start+5, local_start+7.5, num=len(exp_t_mle))\n",
    "        if i > 0:\n",
    "            plt.scatter(xs_exp, exp_t_mle, marker='o', c='#f58a42', s=5, zorder=3)\n",
    "        else:\n",
    "            plt.scatter(xs_exp, exp_t_mle, marker='o', c='#f58a42', s=5, zorder=3, label='Exponential Fit')\n",
    "        plt.errorbar(xs_exp, exp_t_mle, yerr=1.96*np.array(exp_t_se), fmt='none', ecolor='#8c8c8c', zorder=1)\n",
    "\n",
    "    plt.xlabel('Simulated Migration Rate')\n",
    "    plt.ylabel('Estimated Split Time')\n",
    "    plt.xticks([6.25, 18.75, 31.25, 43.75, 56.25], ['0.001', '0.005', '0.01', '0.02', '0.05'])\n",
    "    plt.axhline(y=T, xmin=0, xmax=1, zorder=2, c='red', linestyle='-', label=\"True split time\")\n",
    "    plt.legend(loc='upper right', fontsize='x-small')\n",
    "    plt.savefig(f'./png/T{T}_N{Ne}_mig_multiStart.png', dpi=300)\n",
    "    plt.savefig(f'./pdf/T{T}_N{Ne}_mig_multiStart.pdf')\n",
    "    plt.clf()"
   ]
  }
 ],
 "metadata": {
  "interpreter": {
   "hash": "31f2aee4e71d21fbe5cf8b01ff0e069b9275f58929596ceb00d14d90e3e16cd6"
  },
  "kernelspec": {
   "display_name": "Python 3.8.2 64-bit",
   "language": "python",
   "name": "python3"
  },
  "language_info": {
   "codemirror_mode": {
    "name": "ipython",
    "version": 3
   },
   "file_extension": ".py",
   "mimetype": "text/x-python",
   "name": "python",
   "nbconvert_exporter": "python",
   "pygments_lexer": "ipython3",
   "version": "3.8.10"
  },
  "orig_nbformat": 4
 },
 "nbformat": 4,
 "nbformat_minor": 2
}
