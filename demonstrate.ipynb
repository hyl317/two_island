{
 "cells": [
  {
   "cell_type": "markdown",
   "metadata": {},
   "source": [
    "# running a single two-island simulation and then visualize the fit"
   ]
  },
  {
   "cell_type": "code",
   "execution_count": 2,
   "metadata": {},
   "outputs": [],
   "source": [
    "import msprime\n",
    "import sys\n",
    "import pickle\n",
    "sys.path.insert(0, \"/mnt/archgen/users/yilei/IBD/two_island_final/code\")\n",
    "from analytic import *\n",
    "from ts_utility import *\n",
    "import numpy as np"
   ]
  },
  {
   "cell_type": "code",
   "execution_count": null,
   "metadata": {},
   "outputs": [],
   "source": [
    "N = 500\n",
    "T = 20\n",
    "demography = msprime.Demography()\n",
    "demography.add_population(name=\"A\", initial_size=N/2)\n",
    "demography.add_population(name=\"B\", initial_size=N/2)\n",
    "demography.add_population(name=\"AB\", initial_size=N)\n",
    "demography.add_population_split(time=T, derived=[\"A\", \"B\"], ancestral=\"AB\")\n",
    "print(f'simulating two-island model with ancestral pop size {N} with split time {T}...')\n",
    "\n",
    "sampling = {'A':10, 'B':10}\n",
    "prms = [[sampling, demography, ch, 1000, 1, np.inf, 4.0] for ch in range(1,23)]\n",
    "results = multi_run(simAndGetIBD_two_island_chrom_fullARG, prms, processes=12, output=False)\n",
    "aggregated = []\n",
    "for result in results:\n",
    "    aggregated.extend(result)\n",
    "aggregated = np.array(aggregated)\n",
    "\n",
    "pickle.dump(aggregated, open('ibd_batch1.pickle', 'wb'))\n",
    "\n",
    "# aggregated = pickle.load(open('./inference/IBD_pickle/T30_N2000/ibd_batch18.pickle', 'rb'))\n",
    "# print(f'number of ibd segments: {len(aggregated)}')\n",
    "\n"
   ]
  },
  {
   "cell_type": "code",
   "execution_count": 6,
   "metadata": {},
   "outputs": [
    {
     "name": "stdout",
     "output_type": "stream",
     "text": [
      "split time from exp fit: 29.716(27.952 - 31.48)\n",
      "hessian info: info(error_estimate=array([[0.00127062, 0.00127062],\n",
      "       [0.00127062, 0.00127062]]), final_step=array([[1.e-04, 1.e-04],\n",
      "       [1.e-04, 1.e-04]]), index=array([0, 1, 2, 3]))\n",
      "inverse of hessian: [[ 1.00000000e+00 -3.53410516e-17]\n",
      " [-9.82684170e-18  1.00000000e+00]]\n",
      "###########################################################\n",
      "split time: 19.25(17.24 - 21.26)\n",
      "ancestral pop size: 493.88(423.13 - 564.63)\n",
      "curr_min: -2756.1095168157517\n",
      "      fun: -2756.1095168157517\n",
      " hess_inv: <2x2 LbfgsInvHessProduct with dtype=float64>\n",
      "      jac: array([-4.54747313e-05,  0.00000000e+00])\n",
      "  message: 'CONVERGENCE: REL_REDUCTION_OF_F_<=_FACTR*EPSMCH'\n",
      "     nfev: 120\n",
      "      nit: 19\n",
      "     njev: 40\n",
      "   status: 0\n",
      "  success: True\n",
      "        x: array([ 19.25062879, 493.88141159])\n",
      "###########################################################\n"
     ]
    }
   ],
   "source": [
    "import pickle\n",
    "aggregated = pickle.load(open('/mnt/archgen/users/yilei/IBD/two_island_final/inference/IBD_pickle/T20_N500/ibd_batch1.pickle', 'rb'))\n",
    "lambda_exp_mle, lambda_exp_se = two_island_noGeneFlow_constNe_truncExp(aggregated, 5.0, 15.0)\n",
    "chrlens = np.array([286.279, 268.840, 223.361, 214.688, 204.089, 192.040, 187.221, 168.003, 166.359, 181.144, 158.219, 174.679, 125.706, 120.203, 141.860, 134.038, 128.491, 117.709, 107.734, 108.267, 62.786, 74.110])\n",
    "twoIsland_mle, twoIsland_se = two_island_noGeneFlow_constNe_MLE_multiStart(aggregated, 5.0, 15.0, 0.1, chrlens, 2*sampling['A']*2*sampling['B'])"
   ]
  },
  {
   "cell_type": "code",
   "execution_count": 12,
   "metadata": {},
   "outputs": [
    {
     "data": {
      "text/plain": [
       "array([  25.83565563, 3942.6992257 ])"
      ]
     },
     "execution_count": 12,
     "metadata": {},
     "output_type": "execute_result"
    }
   ],
   "source": [
    "twoIsland_se"
   ]
  },
  {
   "cell_type": "code",
   "execution_count": 9,
   "metadata": {},
   "outputs": [
    {
     "data": {
      "image/png": "[encoded data removed]",
      "text/plain": [
       "<Figure size 432x288 with 1 Axes>"
      ]
     },
     "metadata": {
      "needs_background": "light"
     },
     "output_type": "display_data"
    }
   ],
   "source": [
    "import matplotlib.pyplot as plt\n",
    "\n",
    "minl = 5\n",
    "maxl = 15\n",
    "step = 0.25\n",
    "bins = np.arange(minl, maxl+step, step)\n",
    "midpoint = (bins[:-1] + bins[1:])/2\n",
    "\n",
    "numPairs = 2*sampling['A']*2*sampling['B']\n",
    "lambdas = np.zeros((len(chrlens), len(midpoint)))\n",
    "for i, g in enumerate(chrlens):\n",
    "    lambdas[i] += two_island_noGeneFlow_constNe_eq5(g/100, midpoint/100, twoIsland_mle[0], twoIsland_mle[1])\n",
    "    #lambdas[i] += two_island_noGeneFlow_constNe_eq5(g/100, midpoint/100, T, N)\n",
    "lambdas = np.sum(lambdas, axis=0)*numPairs*(step/100)\n",
    "\n",
    "x, *_ = plt.hist(aggregated, bins=bins, alpha=0)\n",
    "plt.scatter(midpoint, x, label='simulated', s=7.0)\n",
    "plt.plot(midpoint, lambdas, color='blue', label='Fitted Two-island Model')\n",
    "rate = lambda_exp_mle\n",
    "#rate = T/50\n",
    "normalizing_const = np.exp(-rate*minl) - np.exp(-rate*maxl)\n",
    "plt.plot(midpoint, len(aggregated)*step*rate*np.exp(-rate*midpoint)/normalizing_const, color='#f58a42', label='Exp Fit')\n",
    "plt.title(f'$T_0$: {T}, $N_0$: {N}')\n",
    "plt.xlabel('Length of IBD in cM', fontsize=14)\n",
    "plt.ylabel(f'Log of IBD Segment Counts in Each Bin', fontsize=14)\n",
    "plt.yscale('log')\n",
    "plt.legend(loc='upper right', fontsize='small')\n",
    "plt.savefig(f'T{T}_N{N}_sample.png', dpi=300)\n",
    "plt.savefig(f'T{T}_N{N}_sample.pdf', dpi=300)"
   ]
  },
  {
   "cell_type": "code",
   "execution_count": 8,
   "metadata": {},
   "outputs": [
    {
     "name": "stdout",
     "output_type": "stream",
     "text": [
      "1203\n"
     ]
    }
   ],
   "source": [
    "import pickle\n",
    "pickle.dump(aggregated, open('T20_N500_sample_ibd.pickle', 'wb'))\n",
    "print(len(aggregated))"
   ]
  },
  {
   "cell_type": "code",
   "execution_count": 3,
   "metadata": {},
   "outputs": [
    {
     "name": "stdout",
     "output_type": "stream",
     "text": [
      "     13    \n",
      "   ┏━━┻━━┓ \n",
      "   ┃    12 \n",
      "   ┃    ┏┻┓\n",
      "   ┃   11 ┃\n",
      "   ┃    ┃ ┃\n",
      "   ┃    9 ┃\n",
      "   ┃    ┃ ┃\n",
      "   8    ┃ ┃\n",
      " ┏━┻━┓  ┃ ┃\n",
      " ┃   7  ┃ ┃\n",
      " ┃  ┏┻┓ ┃ ┃\n",
      " 6  ┃ ┃ ┃ ┃\n",
      "┏┻┓ ┃ ┃ ┃ ┃\n",
      "0 5 2 3 1 4\n",
      "\n",
      "1.2313039711205165\n",
      "     13    \n",
      "   ┏━━┻━━┓ \n",
      "   ┃    12 \n",
      "   ┃    ┏┻┓\n",
      "   ┃   11 ┃\n",
      "   ┃    ┃ ┃\n",
      "   ┃   10 ┃\n",
      "   ┃    ┃ ┃\n",
      "   8    ┃ ┃\n",
      " ┏━┻━┓  ┃ ┃\n",
      " ┃   7  ┃ ┃\n",
      " ┃  ┏┻┓ ┃ ┃\n",
      " 6  ┃ ┃ ┃ ┃\n",
      "┏┻┓ ┃ ┃ ┃ ┃\n",
      "0 5 2 3 1 4\n",
      "\n",
      "1.2313039711205165\n"
     ]
    }
   ],
   "source": [
    "ts = msprime.sim_ancestry(\n",
    "    3, recombination_rate=0.1, sequence_length=2,\n",
    "    record_full_arg=True, random_seed=42)\n",
    "for tree in ts.trees():\n",
    "    print(tree.draw(format=\"unicode\"))\n",
    "    print(tree.time(12))"
   ]
  },
  {
   "cell_type": "code",
   "execution_count": 4,
   "metadata": {},
   "outputs": [
    {
     "name": "stdout",
     "output_type": "stream",
     "text": [
      " 6 \n",
      " ┃ \n",
      " 5 \n",
      "┏┻┓\n",
      "4 ┃\n",
      "┃ ┃\n",
      "2 ┃\n",
      "┃ ┃\n",
      "0 1\n",
      "\n",
      "5\n",
      " 6 \n",
      " ┃ \n",
      " 5 \n",
      "┏┻┓\n",
      "4 ┃\n",
      "┃ ┃\n",
      "3 ┃\n",
      "┃ ┃\n",
      "0 1\n",
      "\n",
      "5\n"
     ]
    }
   ],
   "source": [
    "ts_sim = ts.simplify(samples=[1,4], keep_unary=True, keep_input_roots=True)\n",
    "for tree in ts_sim.trees():\n",
    "    print(tree.draw(format=\"unicode\"))\n",
    "    print(tree.mrca(0,1))"
   ]
  }
 ],
 "metadata": {
  "kernelspec": {
   "display_name": "Python 3.8.10 64-bit",
   "language": "python",
   "name": "python3"
  },
  "language_info": {
   "codemirror_mode": {
    "name": "ipython",
    "version": 3
   },
   "file_extension": ".py",
   "mimetype": "text/x-python",
   "name": "python",
   "nbconvert_exporter": "python",
   "pygments_lexer": "ipython3",
   "version": "3.8.10"
  },
  "orig_nbformat": 4,
  "vscode": {
   "interpreter": {
    "hash": "31f2aee4e71d21fbe5cf8b01ff0e069b9275f58929596ceb00d14d90e3e16cd6"
   }
  }
 },
 "nbformat": 4,
 "nbformat_minor": 2
}
