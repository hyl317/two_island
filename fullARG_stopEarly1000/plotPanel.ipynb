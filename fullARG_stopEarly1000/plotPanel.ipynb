{
 "cells": [
  {
   "cell_type": "code",
   "execution_count": 1,
   "metadata": {},
   "outputs": [],
   "source": [
    "import pickle\n",
    "import numpy as np\n",
    "import matplotlib.pyplot as plt\n",
    "import msprime\n",
    "import sys\n",
    "sys.path.insert(0, \"/mnt/archgen/users/yilei/IBD/two_island_final/code\")\n",
    "from analytic import *\n",
    "from ts_utility import *"
   ]
  },
  {
   "cell_type": "code",
   "execution_count": 4,
   "metadata": {},
   "outputs": [
    {
     "data": {
      "text/plain": [
       "<Figure size 864x576 with 0 Axes>"
      ]
     },
     "metadata": {},
     "output_type": "display_data"
    },
    {
     "data": {
      "text/plain": [
       "<Figure size 864x576 with 0 Axes>"
      ]
     },
     "metadata": {},
     "output_type": "display_data"
    },
    {
     "data": {
      "text/plain": [
       "<Figure size 864x576 with 0 Axes>"
      ]
     },
     "metadata": {},
     "output_type": "display_data"
    }
   ],
   "source": [
    "path2Map = \"/mnt/sequencedb/RecombinationMaps/HapMapII/GRCh37_official/genetic_map_GRCh37_chr5.txt\"\n",
    "bps, cMs = readHapMap(path2Map)\n",
    "numPairs = 5e4\n",
    "for T in [20, 30, 50]:\n",
    "    fig, axs = plt.subplots(2, 3, sharex=True, figsize=(12, 8), tight_layout=True)\n",
    "    for index, N in enumerate([50, 100, 250, 500, 1000, 2000]):\n",
    "        i = int(index/3)\n",
    "        j = index - 3*i\n",
    "        with open(f'./pickle/two_island_T{T}_N{N}_fullARG', 'rb') as f:\n",
    "            ibd_segments = pickle.load(f)\n",
    "            ibd_segments = np.array(ibd_segments)\n",
    "            minl = 4\n",
    "            maxl = 20\n",
    "            step = 0.25\n",
    "            bins = np.arange(minl, maxl+step, step)\n",
    "            midpoint = (bins[:-1] + bins[1:])/2\n",
    "            #meanNumIBD_eq5 = np.array([two_island_noGeneFlow_constNe_eq5(cMs[-1]/100, l/100, T, N) for l in midpoint])\n",
    "            meanNumIBD_eq4 = np.array([two_island_noGeneFlow_constNe_eq4(cMs[-1]/100, l/100, T, N) for l in midpoint])\n",
    "            # each bin is 0.1cM, so we multiply by 0.001M here\n",
    "            #meanNumIBD_eq5 = (step/100)*np.array(meanNumIBD_eq5)\n",
    "            meanNumIBD_eq4 = (step/100)*np.array(meanNumIBD_eq4)\n",
    "            x, _ = np.histogram(ibd_segments, bins=bins)\n",
    "            axs[i,j].scatter(midpoint, x/numPairs, label='simulated', s=7.0)\n",
    "            #axs[i,j].plot(midpoint, meanNumIBD_eq5, color='red', label='Eq. 6')\n",
    "            axs[i,j].plot(midpoint, meanNumIBD_eq4, color='black', label='theory')\n",
    "            rate = T/50\n",
    "            normalizing_const = np.exp(-rate*minl) - np.exp(-rate*maxl)\n",
    "            axs[i,j].plot(midpoint, (len(ibd_segments)/numPairs)*step*rate*np.exp(-rate*midpoint)/normalizing_const, color='orange', label='Exp Fit')\n",
    "            axs[i,j].set_title(f'$N_0$: {N}')\n",
    "            #axs[i,j].set_xlabel('length of IBD in cM')\n",
    "            #axs[i,j].set_ylabel(f'number of IBD segments in each bin of {step}cM')\n",
    "            axs[i,j].set_yscale('log')\n",
    "            if i == 0 and j == 0:\n",
    "                axs[i,j].legend(loc='upper right', fontsize='x-large')\n",
    "    fig.text(0.5, 0.0, \"IBD Segment Length Bins\", ha='center', va='center', fontsize='xx-large')\n",
    "    fig.text(0.0, 0.5, 'Log of IBD Segment Counts in Each Bin (per Haplotype Pair)', ha='center', va='center', rotation='vertical', fontsize='xx-large')\n",
    "    plt.savefig(f'two_island_T{int(T)}_log.png', dpi=300)\n",
    "    plt.savefig(f'two_island_T{int(T)}_log.pdf', bbox_inches = \"tight\")\n",
    "    plt.clf()\n",
    "\n"
   ]
  }
 ],
 "metadata": {
  "interpreter": {
   "hash": "31f2aee4e71d21fbe5cf8b01ff0e069b9275f58929596ceb00d14d90e3e16cd6"
  },
  "kernelspec": {
   "display_name": "Python 3.8.2 64-bit",
   "language": "python",
   "name": "python3"
  },
  "language_info": {
   "codemirror_mode": {
    "name": "ipython",
    "version": 3
   },
   "file_extension": ".py",
   "mimetype": "text/x-python",
   "name": "python",
   "nbconvert_exporter": "python",
   "pygments_lexer": "ipython3",
   "version": "3.8.10"
  },
  "orig_nbformat": 4
 },
 "nbformat": 4,
 "nbformat_minor": 2
}
